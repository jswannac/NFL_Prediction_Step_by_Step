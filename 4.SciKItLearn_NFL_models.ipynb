{
 "cells": [
  {
   "cell_type": "markdown",
   "id": "3fed6073",
   "metadata": {},
   "source": [
    "# Part 4: Let's make binary classifiers!\n",
    "<i style=\"font-size: 0.94em\">This notebook is part of a series detailing the creation of models for predicting NFL game outcomes. For the table of contents listing all notebooks in the series, <a href=\"0.Introduction_NFL_Prediction.ipynb\">click here.</a></i>\n",
    "\n",
    "To start with, we'll read in the data frame built in the last notebook. If you recall, it represented each game as an average of game statistics for each team, calculated up to but not including the game in consideration. This represented the information publically available before the game in consideration began. The stat vectors of summarized stats per team were concatenated to build the training inputs for each game.\n",
    "\n",
    "After reading in the data, we'll need binary class labels for our games. A negative point differential means that \"our\" team lost, and a positive one means \"our\" team won. We'll go ahead and count the few draws that occur in the NFL as losses. \n",
    "\n",
    "After making the binary class labels, we'll normalize the data, split it, and input it into a variety of models from SciKitLearn. I'll make this process even easier by defining a convenience method that I can use to smoothly create and run a variety of models.\n",
    "\n",
    "The cell below sets everything up; beyond that, we can run a variety of slightly different data sets and models to see what comes out!"
   ]
  },
  {
   "cell_type": "code",
   "execution_count": 1,
   "id": "00198994",
   "metadata": {},
   "outputs": [],
   "source": [
    "import pandas as pd\n",
    "from sklearn.linear_model import LogisticRegression\n",
    "from sklearn.model_selection import train_test_split\n",
    "from sklearn.ensemble import RandomForestClassifier\n",
    "from sklearn.svm import SVC\n",
    "from sklearn.preprocessing import StandardScaler\n",
    "from sklearn.naive_bayes import GaussianNB\n",
    "from sklearn.neighbors import KNeighborsClassifier\n",
    "from sklearn.ensemble import GradientBoostingClassifier\n",
    "from sklearn.model_selection import RandomizedSearchCV\n",
    "from sklearn.inspection import permutation_importance\n",
    "\n",
    "directory = \"./Data/\"\n",
    "input_file_name = \"labeled_data.pkl\"\n",
    "labeled_data_df = pd.read_pickle(directory+input_file_name)\n",
    "labeled_data_df[\"gold_label_binary\"] = labeled_data_df[\"gold_label\"].apply(lambda x : 0.0 if x < 0.0 else 1.0)\n",
    "\n",
    "def sklearn_helper(classifier, split_data, verbose=True):\n",
    "    train_data = split_data[0]\n",
    "    test_data = split_data[1]\n",
    "    train_labels = split_data[2]\n",
    "    test_labels = split_data[3]\n",
    "    classifier.fit(train_data, train_labels)\n",
    "    accuracy = classifier.score(test_data, test_labels)\n",
    "    if verbose:\n",
    "        print(f\"Accuracy of {classifier}: {accuracy}\")\n",
    "    return accuracy\n",
    "\n",
    "def run_tests(split_data):\n",
    "    sklearn_helper(LogisticRegression(random_state=0, max_iter=100000), split_data)\n",
    "    sklearn_helper(SVC(random_state=0, kernel='rbf'), split_data)\n",
    "    sklearn_helper(GaussianNB(), split_data)\n",
    "    sklearn_helper(KNeighborsClassifier(n_neighbors=17), split_data)\n",
    "    sklearn_helper(GradientBoostingClassifier(), split_data)\n",
    "    sklearn_helper(RandomForestClassifier(n_estimators=1000, random_state=0), split_data)\n",
    "\n",
    "# Scale the features, get labels, and do train/test split\n",
    "def get_split_data(df):\n",
    "    labels = df[\"gold_label_binary\"]\n",
    "    features = df.loc[:, \"is_home_team\":\"season_games_to_now_them\"]\n",
    "    features = StandardScaler().fit_transform(features)\n",
    "    return train_test_split(features, labels, test_size=0.15, random_state=0)"
   ]
  },
  {
   "cell_type": "markdown",
   "id": "182ae5a7",
   "metadata": {},
   "source": [
    "## Experiment 1: A variety of models with default parameters and all games from 2009-2018 included"
   ]
  },
  {
   "cell_type": "code",
   "execution_count": 2,
   "id": "d1504189",
   "metadata": {},
   "outputs": [
    {
     "name": "stdout",
     "output_type": "stream",
     "text": [
      "Accuracy of LogisticRegression(max_iter=100000, random_state=0): 0.633245382585752\n",
      "Accuracy of SVC(random_state=0): 0.6253298153034301\n",
      "Accuracy of GaussianNB(): 0.6292875989445911\n",
      "Accuracy of KNeighborsClassifier(n_neighbors=17): 0.6451187335092349\n",
      "Accuracy of GradientBoostingClassifier(): 0.6569920844327177\n",
      "Accuracy of RandomForestClassifier(n_estimators=1000, random_state=0): 0.6437994722955145\n"
     ]
    }
   ],
   "source": [
    "split_data = get_split_data(labeled_data_df)\n",
    "run_tests(split_data)"
   ]
  },
  {
   "cell_type": "markdown",
   "id": "8ba63faf",
   "metadata": {},
   "source": [
    "## Experiment 2: Let's not bet on the first two games of the season\n",
    "This uses the results of the first two games of each season to calculate the 'up-to-now' statistics used in prediction, but does not use results of these games to train or test. This is the equivalent of just accepting we know nothing at the start of the season and then letting the first two games play out before making any picks or bets."
   ]
  },
  {
   "cell_type": "code",
   "execution_count": 4,
   "id": "b47515bc",
   "metadata": {},
   "outputs": [
    {
     "name": "stdout",
     "output_type": "stream",
     "text": [
      "Accuracy of LogisticRegression(max_iter=100000, random_state=0): 0.6661631419939577\n",
      "Accuracy of SVC(random_state=0): 0.6510574018126888\n",
      "Accuracy of GaussianNB(): 0.6646525679758308\n",
      "Accuracy of KNeighborsClassifier(n_neighbors=17): 0.6782477341389728\n",
      "Accuracy of GradientBoostingClassifier(): 0.6782477341389728\n",
      "Accuracy of RandomForestClassifier(n_estimators=1000, random_state=0): 0.6706948640483383\n"
     ]
    }
   ],
   "source": [
    "exp_2_df = labeled_data_df[labeled_data_df[\"season_games_to_now_us\"] > 1]    \n",
    "split_data = get_split_data(exp_2_df)\n",
    "run_tests(split_data)"
   ]
  },
  {
   "cell_type": "markdown",
   "id": "443c6317",
   "metadata": {},
   "source": [
    "## September games can poorly reflect the rest of the season. Why not skip those as well?"
   ]
  },
  {
   "cell_type": "code",
   "execution_count": 5,
   "id": "78e2f482",
   "metadata": {},
   "outputs": [
    {
     "name": "stdout",
     "output_type": "stream",
     "text": [
      "Accuracy of LogisticRegression(max_iter=100000, random_state=0): 0.6554770318021201\n",
      "Accuracy of SVC(random_state=0): 0.6448763250883393\n",
      "Accuracy of GaussianNB(): 0.6413427561837456\n",
      "Accuracy of KNeighborsClassifier(n_neighbors=17): 0.6448763250883393\n",
      "Accuracy of GradientBoostingClassifier(): 0.6554770318021201\n",
      "Accuracy of RandomForestClassifier(n_estimators=1000, random_state=0): 0.6183745583038869\n"
     ]
    }
   ],
   "source": [
    "exp_3_df = labeled_data_df[labeled_data_df[\"season_games_to_now_us\"] > 3]    \n",
    "split_data = get_split_data(exp_3_df)\n",
    "run_tests(split_data)"
   ]
  },
  {
   "cell_type": "markdown",
   "id": "5661e98d",
   "metadata": {},
   "source": [
    "## Which of the above works best?\n",
    "In general, the data set that excludes the first two games of each season looks most promising. Why might this be the case? The first game of a season is a big guessing game. Most teams change significantly from season to season, in terms of both their roster and their coach. Hence, statistics from the prior season (which is how the first game of each season's statistics got filled in) do not really reflect the team's current iteration. Two gamse allows for ample time to learn how good this team is likely to be and then start to predict.\n",
    "\n",
    "However, the data set that excluded the first four games does not generally perform as well as the one excluding two. How can this be possible? Don't we have more information on how good each team really is by that point? Yes, but we lose a large number of data points that might be used for training. The larger data set available for training in the all-but-first-two-games model more than makes up for the additional confidence we can have about each team's calculated stats in the latter model.\n",
    "\n",
    "Having said that, the model still performed fairly well on the data set including every single game, so perhaps it is not worth skipping a bet or prediction for the season-opening games!"
   ]
  },
  {
   "cell_type": "markdown",
   "id": "f23ee41d",
   "metadata": {},
   "source": [
    "# Would a smaller representation work better?\n",
    "As indicated in the notebook preceding this one, the dataset for the NFL model is quite small. A smaller data set with so many dimensions (close to 100) could lead to overfitting. We can try out a smaller representation with fewer dimensions to see if it results in comparable performance before moving on to hyperparameter tuning for the GradientBoostingClassifier, Random Forest, and K Nearest Neighbors, the algorithms above which performed best.\n",
    "## Which dimensions matter most?\n",
    "The random forest model can help us answer this question. It stands out among other machine learning models in being easy to interpret and use. By printing out the feature importances gathered by the random forest model, it's easy to see which dimensions may be worth dropping.\n",
    "\n",
    "This can be calculated in two ways, impurity-based and permutation importance. Why not examine both?"
   ]
  },
  {
   "cell_type": "code",
   "execution_count": 10,
   "id": "8b826340",
   "metadata": {},
   "outputs": [
    {
     "name": "stdout",
     "output_type": "stream",
     "text": [
      "Accuracy of random forest: 0.6411609498680739\n",
      "Impurity-based importances\n",
      "is_home_team                0.009583\n",
      "point_dif_us                0.025290\n",
      "off_drives_us               0.008934\n",
      "off_total_start_pos_us      0.015026\n",
      "completed_passes_us         0.010068\n",
      "                              ...   \n",
      "hit_their_qb_them           0.009913\n",
      "sacked_their_qb_them        0.009725\n",
      "sack_yards_them             0.010336\n",
      "tackles_for_loss_them       0.010319\n",
      "season_games_to_now_them    0.006564\n",
      "Length: 95, dtype: float64\n",
      "\n",
      "Permutation Importances\n",
      "is_home_team                0.024011\n",
      "point_dif_us                0.006596\n",
      "off_drives_us              -0.001319\n",
      "off_total_start_pos_us      0.003166\n",
      "completed_passes_us        -0.003166\n",
      "                              ...   \n",
      "hit_their_qb_them           0.003958\n",
      "sacked_their_qb_them        0.000264\n",
      "sack_yards_them             0.012137\n",
      "tackles_for_loss_them       0.002111\n",
      "season_games_to_now_them   -0.000528\n",
      "Length: 95, dtype: float64\n"
     ]
    }
   ],
   "source": [
    "# Get the labels and scale the features\n",
    "feature_descriptors = labeled_data_df.loc[:, \"is_home_team\":\"season_games_to_now_them\"].columns\n",
    "train_data, test_data, train_labels, test_labels = get_split_data(labeled_data_df)\n",
    "\n",
    "rf_class = RandomForestClassifier(n_estimators=100, random_state=0)\n",
    "rf_class.fit(train_data, train_labels)\n",
    "accuracy = rf_class.score(test_data, test_labels)\n",
    "print(f\"Accuracy of random forest: {accuracy}\")\n",
    "feature_importance = pd.Series(rf_class.feature_importances_, index=feature_descriptors)\n",
    "print(\"Impurity-based importances\")\n",
    "print(feature_importance)\n",
    "\n",
    "permu_importance = permutation_importance(rf_class, \n",
    "                                                test_data, \n",
    "                                                test_labels, \n",
    "                                                n_repeats=5, \n",
    "                                                random_state=0, \n",
    "                                                n_jobs=5)\n",
    "print(\"\\nPermutation Importances\")\n",
    "permu_importance = pd.Series(permu_importance.importances_mean, index=feature_descriptors)\n",
    "print(permu_importance)"
   ]
  },
  {
   "cell_type": "markdown",
   "id": "546536fe",
   "metadata": {},
   "source": [
    "## Well that doesn't match up...\n",
    "The importances calculated above do not corroborate each other at all. What can we do? As a quick solution, l\n",
    "let's simply add them up and then sort the result to see which one's have a low score in both models (resulting in a low sum). Then, we can toss these unimportant features out and try training more models!"
   ]
  },
  {
   "cell_type": "code",
   "execution_count": 11,
   "id": "def5fd9d",
   "metadata": {},
   "outputs": [
    {
     "name": "stdout",
     "output_type": "stream",
     "text": [
      "point_dif_them               0.047071\n",
      "is_home_team                 0.033593\n",
      "point_dif_us                 0.031886\n",
      "sack_yards_them              0.022473\n",
      "time_possession_us           0.020192\n",
      "first_downs_earned_us        0.019790\n",
      "interceptions_thrown_us      0.019184\n",
      "off_total_start_pos_them     0.018204\n",
      "off_total_start_pos_us       0.018192\n",
      "passes_attempted_us          0.017800\n",
      "r_yards_allowed_us           0.016488\n",
      "r_yards_allowed_them         0.016438\n",
      "interceptions_caught_us      0.016252\n",
      "net_passing_yards_them       0.015845\n",
      "first_downs_allowed_them     0.015692\n",
      "rush_td_allowed_them         0.015676\n",
      "fg_made_them                 0.015487\n",
      "off_pen_yards_them           0.015374\n",
      "num_def_plays_us             0.015273\n",
      "forced_fumbles_us            0.014851\n",
      "yards_after_catch_us         0.014739\n",
      "first_downs_earned_them      0.014500\n",
      "opp_fg_attempt_yards_them    0.014441\n",
      "pass_td_allowed_them         0.014408\n",
      "times_sacked_us              0.014301\n",
      "passes_attempted_them        0.014257\n",
      "first_downs_allowed_us       0.013910\n",
      "hit_their_qb_them            0.013870\n",
      "fg_attempt_yards_us          0.013764\n",
      "air_yards_us                 0.013726\n",
      "fg_attempts_us               0.013601\n",
      "sack_yards_us                0.013407\n",
      "opponent_r_attempts_them     0.013168\n",
      "rush_td_us                   0.012924\n",
      "p_yards_allowed_us           0.012846\n",
      "def_penalty_yards_them       0.012658\n",
      "qb_was_hit_them              0.012593\n",
      "off_total_rushing_us         0.012571\n",
      "pass_td_us                   0.012502\n",
      "tackles_for_loss_them        0.012430\n",
      "net_passing_yards_us         0.012350\n",
      "fumbles_made_us              0.012346\n",
      "tackles_for_loss_us          0.012264\n",
      "sacked_yards_lost_them       0.012251\n",
      "sacked_yards_lost_us         0.012127\n",
      "def_drives_us                0.012091\n",
      "pass_td_them                 0.012063\n",
      "pass_td_allowed_us           0.011713\n",
      "opponent_p_attempts_us       0.011680\n",
      "opp_fg_attempts_them         0.011492\n",
      "fg_made_us                   0.011417\n",
      "off_penalties_us             0.011348\n",
      "time_possession_them         0.011059\n",
      "yards_after_catch_them       0.011042\n",
      "def_num_penalties_us         0.011004\n",
      "times_sacked_them            0.010803\n",
      "oppo_start_pos_total_them    0.010673\n",
      "oppo_start_pos_total_us      0.010671\n",
      "air_yards_them               0.010640\n",
      "fumbles_made_them            0.010435\n",
      "rushes_attempted_us          0.010346\n",
      "opponent_r_attempts_us       0.010221\n",
      "sacked_their_qb_them         0.009989\n",
      "fg_attempts_them             0.009749\n",
      "qb_was_hit_us                0.009654\n",
      "interceptions_thrown_them    0.009634\n",
      "def_drives_them              0.009596\n",
      "off_penalties_them           0.009373\n",
      "def_num_penalties_them       0.009361\n",
      "season_games_to_now_us       0.009184\n",
      "num_def_plays_them           0.009032\n",
      "interceptions_caught_them    0.008924\n",
      "fumbles_lost_them            0.008744\n",
      "off_total_rushing_them       0.008320\n",
      "def_penalty_yards_us         0.007961\n",
      "p_yards_allowed_them         0.007922\n",
      "fg_attempt_yards_them        0.007871\n",
      "off_pen_yards_us             0.007619\n",
      "off_drives_us                0.007615\n",
      "opp_fg_attempts_us           0.007596\n",
      "hit_their_qb_us              0.007385\n",
      "rushes_attempted_them        0.006923\n",
      "completed_passes_us          0.006902\n",
      "opp_fg_attempt_yards_us      0.006739\n",
      "forced_fumbles_them          0.006167\n",
      "opponent_p_attempts_them     0.006139\n",
      "season_games_to_now_them     0.006036\n",
      "sacked_their_qb_us           0.005938\n",
      "pick_6s_them                 0.005855\n",
      "off_drives_them              0.005519\n",
      "fumbles_lost_us              0.005331\n",
      "completed_passes_them        0.005256\n",
      "rush_td_them                 0.004625\n",
      "rush_td_allowed_us           0.004512\n",
      "pick_6s_us                   0.003093\n",
      "dtype: float64\n"
     ]
    }
   ],
   "source": [
    "overall_importance = (feature_importance + permu_importance) \\\n",
    "                    .sort_values(ascending=False)\n",
    "pd.set_option(\"display.max_rows\", None)\n",
    "print(overall_importance)"
   ]
  },
  {
   "cell_type": "markdown",
   "id": "e91f01ac",
   "metadata": {},
   "source": [
    "# Analysis\n",
    "The stats at the top of the importances list line up well with common wisdom about football. Point differentials, sacks, time of possession, and being the home team all make a big impact, at least relative to the other stats. \n",
    "\n",
    "However, the bottom of the list has a few surprises. It is odd to see rushing touchdowns so close to the bottom of the list. Less surprising are interceptions resulting in a touchdown, known as pick-sixes. These are an uncommon event and thus do not make much impact. \n",
    "\n",
    "# Trying out reduced representations\n",
    "We'll do two simple tests on the above to see whether reduced representations of the game data perform decently well. If they come close to the higher-dimensional representations, they may be worth tuning and will likely predict real-world occurrences better than higher-dimensional representations (due to less likelihood of overfitting).\n",
    "\n",
    "First, we'll take only the top ten most important stats and see how well these alone can predict games. Then, the top twenty and the top fifty. How much predictive value can only ten numbers in a game as complex as football really have? We're about to see...\n"
   ]
  },
  {
   "cell_type": "code",
   "execution_count": 7,
   "id": "656290ea",
   "metadata": {},
   "outputs": [
    {
     "name": "stdout",
     "output_type": "stream",
     "text": [
      "Models trained using only the top 10 features\n",
      "Accuracy of LogisticRegression(max_iter=100000, random_state=0): 0.58311345646438\n",
      "Accuracy of SVC(random_state=0): 0.5910290237467019\n",
      "Accuracy of GaussianNB(): 0.5976253298153035\n",
      "Accuracy of KNeighborsClassifier(n_neighbors=17): 0.5672823218997362\n",
      "Accuracy of GradientBoostingClassifier(): 0.5870712401055409\n",
      "Accuracy of RandomForestClassifier(n_estimators=1000, random_state=0): 0.554089709762533\n"
     ]
    }
   ],
   "source": [
    "items_to_drop = overall_importance.index[10:]\n",
    "\n",
    "topN_df = labeled_data_df.drop(items_to_drop, axis=1)\n",
    "\n",
    "# Get the labels and scale the features\n",
    "labels = topN_df[\"gold_label_binary\"]\n",
    "features = topN_df.loc[:, \"is_home_team\":\"passes_attempted_us\"]\n",
    "features = StandardScaler().fit_transform(features)\n",
    "split_data = train_test_split(features, labels, test_size=0.15, random_state=0)\n",
    "print(\"Models trained using only the top 10 features\")\n",
    "run_tests(split_data)"
   ]
  },
  {
   "cell_type": "code",
   "execution_count": 12,
   "id": "2e8d376f",
   "metadata": {},
   "outputs": [
    {
     "name": "stdout",
     "output_type": "stream",
     "text": [
      "Models trained using only the top 20 features\n",
      "Accuracy of LogisticRegression(max_iter=100000, random_state=0): 0.5923482849604221\n",
      "Accuracy of SVC(random_state=0): 0.6055408970976254\n",
      "Accuracy of GaussianNB(): 0.5976253298153035\n",
      "Accuracy of KNeighborsClassifier(n_neighbors=17): 0.5897097625329816\n",
      "Accuracy of GradientBoostingClassifier(): 0.6015831134564644\n",
      "Accuracy of RandomForestClassifier(n_estimators=1000, random_state=0): 0.5672823218997362\n"
     ]
    }
   ],
   "source": [
    "items_to_drop = overall_importance.index[20:]\n",
    "\n",
    "topN_df = labeled_data_df.drop(items_to_drop, axis=1)\n",
    "\n",
    "# Get the labels and scale the features\n",
    "labels = topN_df[\"gold_label_binary\"]\n",
    "features = topN_df.loc[:, \"is_home_team\":\"forced_fumbles_us\"]\n",
    "features = StandardScaler().fit_transform(features)\n",
    "split_data = train_test_split(features, labels, test_size=0.15, random_state=0)\n",
    "print(\"Models trained using only the top 20 features\")\n",
    "run_tests(split_data)"
   ]
  },
  {
   "cell_type": "code",
   "execution_count": 13,
   "id": "6f1f75f1",
   "metadata": {},
   "outputs": [
    {
     "name": "stdout",
     "output_type": "stream",
     "text": [
      "Models trained using only the top 50 features\n",
      "Accuracy of LogisticRegression(max_iter=100000, random_state=0): 0.6451187335092349\n",
      "Accuracy of SVC(random_state=0): 0.6385224274406333\n",
      "Accuracy of GaussianNB(): 0.6437994722955145\n",
      "Accuracy of KNeighborsClassifier(n_neighbors=17): 0.6134564643799473\n",
      "Accuracy of GradientBoostingClassifier(): 0.6411609498680739\n",
      "Accuracy of RandomForestClassifier(n_estimators=1000, random_state=0): 0.6543535620052771\n"
     ]
    }
   ],
   "source": [
    "items_to_drop = overall_importance.index[50:]\n",
    "topN_df = labeled_data_df.drop(items_to_drop, axis=1)\n",
    "\n",
    "# Get the labels and scale the features\n",
    "labels = topN_df[\"gold_label_binary\"]\n",
    "features = topN_df.loc[:, \"is_home_team\":\"opp_fg_attempts_them\"]\n",
    "features = StandardScaler().fit_transform(features)\n",
    "split_data = train_test_split(features, labels, test_size=0.15, random_state=0)\n",
    "print(\"Models trained using only the top 50 features\")\n",
    "run_tests(split_data)"
   ]
  },
  {
   "cell_type": "markdown",
   "id": "e1c1328b",
   "metadata": {},
   "source": [
    "# Analysis\n",
    "The performance of the 50-dimensional representation is comparable to that of of the larger, 95-dimensional representation. However, the 10 and 20 dimensional feature sets perform poorly. Football is a complex game, and a simple representation cannot fully predict winners with any real accuracy. To find the true \"sweet spot\" for number of dimensions and which dimensions exactly to omit, significantly more testing would be necessary.\n",
    "\n",
    "Even given the decent performance of the 50-dimensional feature set, it must be said that the feature importances discerned by the RF analysis are rather puzzling. How can the number of completed passes rank so low? How can the number of rushing TDs we allow the opponent to score be the second-worst statistic? Perhaps the importance metric calculated does not properly reflect the real importances.\n",
    "\n",
    "Given that the data set is small enough, perhaps it is smartest to keep all the features for now."
   ]
  },
  {
   "cell_type": "markdown",
   "id": "40ec7c4c",
   "metadata": {},
   "source": [
    "# Tuning the RF model for maximum performance\n",
    "To get the most out of the RF model, we can adjust the hyperparameters. While manually tweaking the hyperparameters and watching the results come out is quite fun, it's not really efficient and is not likely to result in a near-optimum solution (getting an true-optimum set of hyperparameters is NP-hard and impractical).\n",
    "\n",
    "A straightforward approach here is to use a randomized grid search. SciKit learn provides an immensely convenient way to to this. We'll exclude the first two games of each season, as this gets slightly better results and will speed up the code. Not betting on the first two games of the season, after all, is a reasonable precaution to take.\n",
    "\n",
    "<i><b>NOTE: With reasonable values of n_iter and cv (such as 400 and 8), the code below takes hours to run. It is mostly here just for reference. If you want to run it within ten minutes or so, set n_iter to something like 5 or 10, but of course this will greatly reduce the likelihood of finding good parameters.</b></i>"
   ]
  },
  {
   "cell_type": "code",
   "execution_count": 10,
   "id": "a04ab401",
   "metadata": {},
   "outputs": [
    {
     "name": "stdout",
     "output_type": "stream",
     "text": [
      "{'n_estimators': 1000, 'min_samples_split': 18, 'min_samples_leaf': 1, 'max_features': 'log2', 'max_depth': 16, 'bootstrap': False}\n",
      "Accuracy of best rf: 0.6661631419939577\n"
     ]
    }
   ],
   "source": [
    "from numpy import linspace\n",
    "\n",
    "exclude_2_df = labeled_data_df[labeled_data_df[\"season_games_to_now_us\"] > 1]  \n",
    "\n",
    "labels = exclude_2_df[\"gold_label_binary\"]\n",
    "features = exclude_2_df.loc[:, \"is_home_team\":\"season_games_to_now_them\"]\n",
    "features = StandardScaler().fit_transform(features)\n",
    "train_data, test_data, train_labels, test_labels = train_test_split(features, labels, test_size=0.15, random_state=0)\n",
    "\n",
    "# Define hyperparameter possibilities\n",
    "n_estimators = [int(x) for x in linspace(start=400, stop=2000, num=17)]\n",
    "max_features = [\"sqrt\", \"log2\"]\n",
    "max_depth = [int(x) for x in linspace(start=5, stop=50, num=25)]\n",
    "min_split = [int(x) for x in linspace(start=2, stop=20, num=10)]\n",
    "min_leaf = [int(x) for x in linspace(start=1, stop=21, num=11)]\n",
    "bootstrap = [True, False]\n",
    "hyperparameter_grid = {'n_estimators': n_estimators,\n",
    "                       'max_features': max_features,\n",
    "                       'max_depth': max_depth,\n",
    "                       'min_samples_split': min_split,\n",
    "                       'min_samples_leaf': min_leaf,\n",
    "                       'bootstrap': bootstrap}\n",
    "rf_optimized = RandomizedSearchCV(estimator=RandomForestClassifier(), \n",
    "                                  param_distributions=hyperparameter_grid, \n",
    "                                  n_iter=300,\n",
    "                                  cv=6, \n",
    "                                  verbose=0,\n",
    "                                  random_state=0, \n",
    "                                  n_jobs=-1)\n",
    "rf_optimized.fit(train_data, train_labels)\n",
    "print(rf_optimized.best_params_)\n",
    "best_rf = rf_optimized.best_estimator_\n",
    "accuracy = best_rf.score(test_data, test_labels)\n",
    "print(f\"Accuracy of best rf: {accuracy}\")"
   ]
  },
  {
   "cell_type": "markdown",
   "id": "c943769e",
   "metadata": {},
   "source": [
    "# What about the KNN model?\n",
    "Astute readers may have noticed that the KNN model in the earlier analyses comparing all the different models performed quite well. While KNN is considered a somewhat basic and even 'dumb' model, it can sometimes perform well. It is a lazy learner, which means it basically does not need training and thus can run quite fast. \n",
    "\n",
    "Can we squeeze any more performance out of the KNN model? Let's see...\n",
    "\n",
    "KNN has fewer hyperparameters to play with than the random forest. The most obvious one to tune is K itself. By running a simple for-loop, recording the accuracy, and making a graph, we can clearly see which value of K will perform best.\n"
   ]
  },
  {
   "cell_type": "code",
   "execution_count": 15,
   "id": "2cfae4fb",
   "metadata": {
    "scrolled": true
   },
   "outputs": [
    {
     "data": {
      "image/png": "[encoded data removed]",
      "text/plain": [
       "<Figure size 936x360 with 1 Axes>"
      ]
     },
     "metadata": {
      "needs_background": "light"
     },
     "output_type": "display_data"
    }
   ],
   "source": [
    "import matplotlib.pyplot as plt\n",
    "\n",
    "exclude_2_df = labeled_data_df[labeled_data_df[\"season_games_to_now_us\"] > 1]  \n",
    "split_data_exclude_2 = get_split_data(exclude_2_df)\n",
    "\n",
    "exclude_4_df = labeled_data_df[labeled_data_df[\"season_games_to_now_us\"] > 3]  \n",
    "split_data_exclude_4 = get_split_data(exclude_4_df)\n",
    " \n",
    "split_data_all = get_split_data(labeled_data_df)\n",
    "\n",
    "results_all_games = []\n",
    "results_exclude_2 = []\n",
    "results_exclude_4 = []\n",
    "for k in range(1, 33):\n",
    "    results_exclude_2.append(\n",
    "        sklearn_helper(KNeighborsClassifier(n_neighbors=k), split_data_exclude_2, verbose=False))\n",
    "    results_exclude_4.append(\n",
    "        sklearn_helper(KNeighborsClassifier(n_neighbors=k), split_data_exclude_4, verbose=False))\n",
    "    results_all_games.append(\n",
    "        sklearn_helper(KNeighborsClassifier(n_neighbors=k), split_data_all, verbose=False))\n",
    "    \n",
    "\n",
    "plt.figure(figsize=(13, 5))\n",
    "plt.plot(range(1, 33), results_all_games)\n",
    "plt.plot(range(1, 33), results_exclude_2)\n",
    "plt.plot(range(1, 33), results_exclude_4)\n",
    "plt.suptitle(\"Accuracy as a function of k for KNN Binary Classifier\", size=\"x-large\")\n",
    "plt.title(\"For predicting NFL games from 2009-2018\", size=\"large\")\n",
    "plt.xlabel(\"Value of K\")\n",
    "plt.ylabel(\"Accuracy\")\n",
    "plt.xticks(range(1, 33))\n",
    "plt.grid()\n",
    "legend_labels = [\"Accuracy across all games\", \n",
    "                 \"Accuracy excluding first 2 games of season\", \n",
    "                 \"Accuracy excluding first 4 games of season\"] \n",
    "plt.legend(legend_labels, loc=\"lower right\")\n",
    "plt.show()"
   ]
  },
  {
   "cell_type": "markdown",
   "id": "668d73f2",
   "metadata": {},
   "source": [
    "## Analysis of KNN performance\n",
    "The graph above makes clear that the best overall performance came from excluding the first two games of each season and using a k-value generally between 16 and 21. When considering all games for the season, k-values of 25, 23, 21, and 17 performed best. Removing the first four games of each season to gather more data, rather than only removing the first two, does not seem worthwhile, as it performs generally worse and predicts fewer games overall\n",
    "\n",
    "However, the above results came without performing cross-validation. Redoing the experiment with the inclusion of cross-validation would make the results more reliable."
   ]
  },
  {
   "cell_type": "code",
   "execution_count": null,
   "id": "fd265cbb",
   "metadata": {},
   "outputs": [],
   "source": []
  }
 ],
 "metadata": {
  "kernelspec": {
   "display_name": "Python 3 (ipykernel)",
   "language": "python",
   "name": "python3"
  },
  "language_info": {
   "codemirror_mode": {
    "name": "ipython",
    "version": 3
   },
   "file_extension": ".py",
   "mimetype": "text/x-python",
   "name": "python",
   "nbconvert_exporter": "python",
   "pygments_lexer": "ipython3",
   "version": "3.9.12"
  }
 },
 "nbformat": 4,
 "nbformat_minor": 5
}
