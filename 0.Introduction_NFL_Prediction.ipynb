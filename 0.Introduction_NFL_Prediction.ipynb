{
 "cells": [
  {
   "cell_type": "markdown",
   "id": "bf531f15",
   "metadata": {},
   "source": [
    "# <u>NFL Predictions using Python, Pandas, and Machine Learning</u>\n",
    "## <i>Make better picks than any human expert!</i>\n",
    "\n",
    "NFL games are among the most-watched events in the sporting world. The league makes billions of dollars per year, and gamblers bet billions more. Every major newspaper and sports channel has multiple analysts dedicated to the NFL, and of course, every gambler has their own system for picking winners. However, almost no one can pick games consistently. Is this because the games are simply too random? Or is it because their analyses focus on the wrong data points and rely on the wrong assumptions? \n",
    "\n",
    "<b style=\"font-size: 1.2em\">In other words, can we do better?</b>\n",
    "\n",
    "The code presented in this series of Jupyter notebooks answers this question with a resounding <b style=\"font-size: 1.6em\"><u>YES.</u></b>\n",
    "\n",
    "Multiple models developed here, using Pandas and SciKitLearn, achieve accuracy of over 67% in picking winners and losers for NFL games. Most human experts hover at around 60%, with even some analysts at major networks only scoring in the upper 50s. \n",
    "\n",
    "How? Read through the notebooks to find out the details. Each notebook contains code with multiple paragraphs of explanation and analysis, along with a few graphs. The table of contents here should steer you in the right direction.\n",
    "\n"
   ]
  },
  {
   "cell_type": "markdown",
   "id": "2560b737",
   "metadata": {},
   "source": [
    "# <u>Table of Contents</u>\n",
    "<a href=\"./1.NFL_Data_Cleaning.ipynb\"><b style=\"font-size: 1.5em;\">1 Data cleaning</b></a><br>\n",
    "<a href=\"2.NFL_Game_Data_Extraction.ipynb\"><b style=\"font-size: 1.5em;\">2 Feature extraction/representation of each game</b></a><br>\n",
    "<a href=\"3.NFL_Game_Data_to_ML_Inputs.ipynb\"><b style=\"font-size: 1.5em;\">3 Preparing data for input into ML models</b></a><br>\n",
    "<a href=\"4.SciKItLearn_NFL_models.ipynb\"><b style=\"font-size: 1.5em;\">4 Building and testing models with SciKitLearn (The fun part!)</b></a><br>\n",
    "\n",
    "Thank you and I hope you enjoy it!"
   ]
  },
  {
   "cell_type": "code",
   "execution_count": null,
   "id": "a5b61c5d",
   "metadata": {},
   "outputs": [],
   "source": []
  }
 ],
 "metadata": {
  "kernelspec": {
   "display_name": "Python 3 (ipykernel)",
   "language": "python",
   "name": "python3"
  },
  "language_info": {
   "codemirror_mode": {
    "name": "ipython",
    "version": 3
   },
   "file_extension": ".py",
   "mimetype": "text/x-python",
   "name": "python",
   "nbconvert_exporter": "python",
   "pygments_lexer": "ipython3",
   "version": "3.9.12"
  }
 },
 "nbformat": 4,
 "nbformat_minor": 5
}
